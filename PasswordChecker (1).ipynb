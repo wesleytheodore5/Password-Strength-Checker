{
 "cells": [
  {
   "cell_type": "code",
   "execution_count": null,
   "id": "d5ae419d-15a8-4bea-9787-162294ca5a71",
   "metadata": {},
   "outputs": [
    {
     "name": "stdout",
     "output_type": "stream",
     "text": [
      "===== Welcome to Password Strength Checker =====\n"
     ]
    },
    {
     "name": "stdin",
     "output_type": "stream",
     "text": [
      "Do you want to check your password's strength (y/n) :  Y\n",
      "Enter the password:  ········\n"
     ]
    },
    {
     "name": "stdout",
     "output_type": "stream",
     "text": [
      "Your password has:-\n",
      "14 lowercase letters\n",
      "1 uppercase letters\n",
      "0 digits\n",
      "0 whitespaces\n",
      "0 special characters\n",
      "Password Score: 0.4\n",
      "Remarks: That's a weak password. You should consider using a tougher password.\n"
     ]
    },
    {
     "name": "stdin",
     "output_type": "stream",
     "text": [
      "Do you want to check another password's strength (y/n) :  y\n",
      "Enter the password:  ········\n"
     ]
    },
    {
     "name": "stdout",
     "output_type": "stream",
     "text": [
      "Your password has:-\n",
      "14 lowercase letters\n",
      "1 uppercase letters\n",
      "2 digits\n",
      "0 whitespaces\n",
      "1 special characters\n",
      "Password Score: 0.8\n",
      "Remarks: Your password is hard to guess. But you could make it even more secure.\n"
     ]
    },
    {
     "name": "stdin",
     "output_type": "stream",
     "text": [
      "Do you want to check another password's strength (y/n) :  y\n",
      "Enter the password:  ········\n"
     ]
    },
    {
     "name": "stdout",
     "output_type": "stream",
     "text": [
      "Your password has:-\n",
      "12 lowercase letters\n",
      "2 uppercase letters\n",
      "4 digits\n",
      "0 whitespaces\n",
      "2 special characters\n",
      "Password Score: 0.8\n",
      "Remarks: Your password is hard to guess. But you could make it even more secure.\n"
     ]
    }
   ],
   "source": [
    "import string\n",
    "import getpass\n",
    "\n",
    "\n",
    "def check_password_strength():\n",
    "   password = getpass.getpass('Enter the password: ')\n",
    "   strength = 0\n",
    "   remarks = ''\n",
    "   lower_count = upper_count = num_count = wspace_count = special_count = 0\n",
    "\n",
    "   for char in list(password):\n",
    "       if char in string.ascii_lowercase:\n",
    "           lower_count += 1\n",
    "       elif char in string.ascii_uppercase:\n",
    "           upper_count += 1\n",
    "       elif char in string.digits:\n",
    "           num_count += 1\n",
    "       elif char == ' ':\n",
    "           wspace_count += 1\n",
    "       else:\n",
    "           special_count += 1\n",
    "\n",
    "   if lower_count >= 1:\n",
    "       strength += 1\n",
    "   if upper_count >= 1:\n",
    "       strength += 1\n",
    "   if num_count >= 1:\n",
    "       strength += 1\n",
    "   if wspace_count >= 1:\n",
    "       strength += 1\n",
    "   if special_count >= 1:\n",
    "       strength += 1\n",
    "\n",
    "   if strength == 1:\n",
    "       remarks = ('That\\'s a very bad password.'\n",
    "           ' Change it as soon as possible.')\n",
    "   elif strength == 2:\n",
    "       remarks = ('That\\'s a weak password.'\n",
    "           ' You should consider using a tougher password.')\n",
    "   elif strength == 3:\n",
    "       remarks = 'Your password is okay, but it can be improved.'\n",
    "   elif strength == 4:\n",
    "       remarks = ('Your password is hard to guess.'\n",
    "           ' But you could make it even more secure.')\n",
    "   elif strength == 5:\n",
    "       remarks = ('Now that\\'s one hell of a strong password!!!'\n",
    "           ' Hackers don\\'t have a chance guessing that password!')\n",
    "\n",
    "   print('Your password has:-')\n",
    "   print(f'{lower_count} lowercase letters')\n",
    "   print(f'{upper_count} uppercase letters')\n",
    "   print(f'{num_count} digits')\n",
    "   print(f'{wspace_count} whitespaces')\n",
    "   print(f'{special_count} special characters')\n",
    "   print(f'Password Score: {strength / 5}')\n",
    "   print(f'Remarks: {remarks}')\n",
    "\n",
    "\n",
    "def check_pwd(another_pw=False):\n",
    "   valid = False\n",
    "   if another_pw:\n",
    "       choice = input(\n",
    "           'Do you want to check another password\\'s strength (y/n) : ')\n",
    "   else:\n",
    "       choice = input(\n",
    "           'Do you want to check your password\\'s strength (y/n) : ')\n",
    "\n",
    "   while not valid:\n",
    "       if choice.lower() == 'y':\n",
    "           return True\n",
    "       elif choice.lower() == 'n':\n",
    "           print('Exiting...')\n",
    "           return False\n",
    "       else:\n",
    "           print('Invalid input...please try again. \\n')\n",
    "\n",
    "\n",
    "if __name__ == '__main__':\n",
    "   print('===== Welcome to Password Strength Checker =====')\n",
    "   check_pw = check_pwd()\n",
    "   while check_pw:\n",
    "       check_password_strength()\n",
    "       check_pw = check_pwd(True)"
   ]
  },
  {
   "cell_type": "code",
   "execution_count": null,
   "id": "1718d0d8-6bdd-414b-b312-1e957066a4c2",
   "metadata": {},
   "outputs": [],
   "source": []
  }
 ],
 "metadata": {
  "kernelspec": {
   "display_name": "anaconda-2024.02-py310",
   "language": "python",
   "name": "conda-env-anaconda-2024.02-py310-py"
  },
  "language_info": {
   "codemirror_mode": {
    "name": "ipython",
    "version": 3
   },
   "file_extension": ".py",
   "mimetype": "text/x-python",
   "name": "python",
   "nbconvert_exporter": "python",
   "pygments_lexer": "ipython3",
   "version": "3.10.14"
  }
 },
 "nbformat": 4,
 "nbformat_minor": 5
}
